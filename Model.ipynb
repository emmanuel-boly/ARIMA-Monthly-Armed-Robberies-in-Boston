{
 "cells": [
  {
   "cell_type": "markdown",
   "metadata": {},
   "source": [
    "# Import Libraries"
   ]
  },
  {
   "cell_type": "code",
   "execution_count": 1,
   "metadata": {},
   "outputs": [],
   "source": [
    "# numpy\n",
    "import numpy as np\n",
    "\n",
    "# pandas\n",
    "import pandas as pd\n",
    "\n",
    "# matplotlib\n",
    "import matplotlib.pyplot as plt\n",
    "\n",
    "# Statsmodel\n",
    "from statsmodels.tsa.stattools import adfuller\n",
    "\n",
    "# sklearn \n",
    "from sklearn.metrics import mean_squared_error"
   ]
  },
  {
   "cell_type": "markdown",
   "metadata": {},
   "source": [
    "# Load Data"
   ]
  },
  {
   "cell_type": "code",
   "execution_count": 2,
   "metadata": {},
   "outputs": [
    {
     "name": "stderr",
     "output_type": "stream",
     "text": [
      "/home/dexter/anaconda3/envs/kaggle/lib/python3.6/site-packages/pandas/core/series.py:3727: FutureWarning: from_csv is deprecated. Please use read_csv(...) instead. Note that some of the default arguments are different, so please refer to the documentation for from_csv when changing your function calls\n",
      "  infer_datetime_format=infer_datetime_format)\n"
     ]
    }
   ],
   "source": [
    "# Load dataset \n",
    "# \n",
    "data = pd.Series.from_csv(path='Data/robberies.csv', header=0)\n",
    "\n",
    "# split dataset\n",
    "split_point = len(data) - 10\n",
    "\n",
    "# dataset (observation from year 1966 to 1974)\n",
    "# validation_data (observations of year 1975)\n",
    "dataset , validation_data = data[0:split_point], data[split_point:]"
   ]
  },
  {
   "cell_type": "markdown",
   "metadata": {},
   "source": [
    "### Data Preparation: We have monthly dataset for 9 years (1966-1975), we split the dataset into two parts \n",
    "1- dataset (observation from year 1966 to 1974), will further split this into train and test. <br> 2- validation_data (observations of year 1975), will take this as a development set."
   ]
  },
  {
   "cell_type": "markdown",
   "metadata": {},
   "source": [
    "# Persistance Model (For Baseline RMSE)"
   ]
  },
  {
   "cell_type": "code",
   "execution_count": 3,
   "metadata": {},
   "outputs": [],
   "source": [
    "# prepare data for persistence model\n",
    "\n",
    "split_point = int(len(dataset) * 0.5)\n",
    "train, test = dataset[0: split_point].values.astype('float32'), dataset[split_point:].values.astype('float32')"
   ]
  },
  {
   "cell_type": "code",
   "execution_count": 4,
   "metadata": {},
   "outputs": [],
   "source": [
    "# walk-forward validation model\n",
    "history = [i for i in train]"
   ]
  },
  {
   "cell_type": "code",
   "execution_count": 5,
   "metadata": {},
   "outputs": [
    {
     "name": "stdout",
     "output_type": "stream",
     "text": [
      "Predicted: 125.00, Expected: 155.000\n",
      "Predicted: 155.00, Expected: 190.000\n",
      "Predicted: 190.00, Expected: 236.000\n",
      "Predicted: 236.00, Expected: 189.000\n",
      "Predicted: 189.00, Expected: 174.000\n",
      "Predicted: 174.00, Expected: 178.000\n",
      "Predicted: 178.00, Expected: 136.000\n",
      "Predicted: 136.00, Expected: 161.000\n",
      "Predicted: 161.00, Expected: 171.000\n",
      "Predicted: 171.00, Expected: 149.000\n",
      "Predicted: 149.00, Expected: 184.000\n",
      "Predicted: 184.00, Expected: 155.000\n",
      "Predicted: 155.00, Expected: 276.000\n",
      "Predicted: 276.00, Expected: 224.000\n",
      "Predicted: 224.00, Expected: 213.000\n",
      "Predicted: 213.00, Expected: 279.000\n",
      "Predicted: 279.00, Expected: 268.000\n",
      "Predicted: 268.00, Expected: 287.000\n",
      "Predicted: 287.00, Expected: 238.000\n",
      "Predicted: 238.00, Expected: 213.000\n",
      "Predicted: 213.00, Expected: 257.000\n",
      "Predicted: 257.00, Expected: 293.000\n",
      "Predicted: 293.00, Expected: 212.000\n",
      "Predicted: 212.00, Expected: 246.000\n",
      "Predicted: 246.00, Expected: 353.000\n",
      "Predicted: 353.00, Expected: 339.000\n",
      "Predicted: 339.00, Expected: 308.000\n",
      "Predicted: 308.00, Expected: 247.000\n",
      "Predicted: 247.00, Expected: 257.000\n",
      "Predicted: 257.00, Expected: 322.000\n",
      "Predicted: 322.00, Expected: 298.000\n",
      "Predicted: 298.00, Expected: 273.000\n",
      "Predicted: 273.00, Expected: 312.000\n",
      "Predicted: 312.00, Expected: 249.000\n",
      "Predicted: 249.00, Expected: 286.000\n",
      "Predicted: 286.00, Expected: 279.000\n",
      "Predicted: 279.00, Expected: 309.000\n",
      "Predicted: 309.00, Expected: 401.000\n",
      "Predicted: 401.00, Expected: 309.000\n",
      "Predicted: 309.00, Expected: 328.000\n",
      "Predicted: 328.00, Expected: 353.000\n",
      "Predicted: 353.00, Expected: 354.000\n",
      "Predicted: 354.00, Expected: 327.000\n",
      "Predicted: 327.00, Expected: 324.000\n",
      "Predicted: 324.00, Expected: 285.000\n",
      "Predicted: 285.00, Expected: 243.000\n",
      "Predicted: 243.00, Expected: 241.000\n",
      "Predicted: 241.00, Expected: 287.000\n",
      "Predicted: 287.00, Expected: 355.000\n",
      "Predicted: 355.00, Expected: 460.000\n",
      "Predicted: 460.00, Expected: 364.000\n",
      "Predicted: 364.00, Expected: 487.000\n",
      "Predicted: 487.00, Expected: 452.000\n",
      "Predicted: 452.00, Expected: 391.000\n",
      "\n",
      "Baseline RMSE : 52.12\n"
     ]
    }
   ],
   "source": [
    "predictions = []\n",
    "for i in range(len(test)):\n",
    "    \n",
    "    # get prediction\n",
    "    y_pred = history[-1]\n",
    "    predictions.append(y_pred)\n",
    "    \n",
    "    # observed\n",
    "    y_true = test[i]\n",
    "    history.append(y_true)\n",
    "    print('Predicted: %.2f, Expected: %.3f' % (y_pred, y_true))\n",
    "    \n",
    "print('\\nBaseline RMSE : %.2f' % (np.sqrt(mean_squared_error(test, predictions))))"
   ]
  },
  {
   "cell_type": "markdown",
   "metadata": {},
   "source": [
    "### Analysis (Persistance Model): \n",
    "We got RMSE value of <b>52.12 </b> which will act as a baseline value for improvement of ARIMA model."
   ]
  },
  {
   "cell_type": "markdown",
   "metadata": {},
   "source": [
    "# Data Analysis"
   ]
  },
  {
   "cell_type": "markdown",
   "metadata": {},
   "source": [
    "## Summary Statistics"
   ]
  },
  {
   "cell_type": "code",
   "execution_count": 6,
   "metadata": {},
   "outputs": [
    {
     "data": {
      "text/plain": [
       "count    108.000000\n",
       "mean     177.703704\n",
       "std      116.231260\n",
       "min       29.000000\n",
       "25%       76.250000\n",
       "50%      149.000000\n",
       "75%      276.750000\n",
       "max      487.000000\n",
       "Name: Robberies, dtype: float64"
      ]
     },
     "execution_count": 6,
     "metadata": {},
     "output_type": "execute_result"
    }
   ],
   "source": [
    "dataset.describe()"
   ]
  },
  {
   "cell_type": "markdown",
   "metadata": {},
   "source": [
    "## Line Plot"
   ]
  },
  {
   "cell_type": "code",
   "execution_count": 7,
   "metadata": {},
   "outputs": [
    {
     "data": {
      "image/png": "[encoded data removed]",
      "text/plain": [
       "<Figure size 432x288 with 1 Axes>"
      ]
     },
     "metadata": {
      "needs_background": "light"
     },
     "output_type": "display_data"
    }
   ],
   "source": [
    "plt.plot(dataset)\n",
    "plt.xlabel('Year')\n",
    "plt.ylabel('Number Of Robberies')\n",
    "plt.show()"
   ]
  },
  {
   "cell_type": "markdown",
   "metadata": {},
   "source": [
    "### Analysis (Line Plot): Following observations can be made from above line plot\n",
    "1- An increasing trend in observed from year to year. We will detrend it .<br>\n",
    "2- Data is not stationary seems like it has varying mean and variance over time (years). We will remove seasonality .<br>\n",
    "3- Large fluctions are observed from year to year. <br>\n",
    "    * Earlier year posess less fluctuations .\n",
    "    * Later years posess more fluctuations."
   ]
  },
  {
   "cell_type": "markdown",
   "metadata": {},
   "source": [
    "## Density Plot"
   ]
  },
  {
   "cell_type": "code",
   "execution_count": 8,
   "metadata": {},
   "outputs": [
    {
     "data": {
      "image/png": "[encoded data removed]",
      "text/plain": [
       "<Figure size 432x288 with 2 Axes>"
      ]
     },
     "metadata": {
      "needs_background": "light"
     },
     "output_type": "display_data"
    }
   ],
   "source": [
    "plt.figure(1)\n",
    "plt.subplot(211)\n",
    "plt.hist(dataset)\n",
    "plt.subplot(212)\n",
    "dataset.plot(kind='kde')\n",
    "plt.show()"
   ]
  },
  {
   "cell_type": "markdown",
   "metadata": {},
   "source": [
    "### Analysis (Density Plot): Following observations can be made from above Density plots\n",
    "1- The histogram shows exponential distribution | long tailed towards right. This can be removed using log power transform. <br>\n",
    "2- The density plot shows a bimodal distribution. <br>"
   ]
  },
  {
   "cell_type": "markdown",
   "metadata": {},
   "source": [
    "## Box and Whisker Plot"
   ]
  },
  {
   "cell_type": "code",
   "execution_count": 9,
   "metadata": {},
   "outputs": [
    {
     "name": "stderr",
     "output_type": "stream",
     "text": [
      "/home/dexter/anaconda3/envs/kaggle/lib/python3.6/site-packages/ipykernel_launcher.py:2: FutureWarning: pd.TimeGrouper is deprecated and will be removed; Please use pd.Grouper(freq=...)\n",
      "  \n"
     ]
    },
    {
     "data": {
      "image/png": "[encoded data removed]",
      "text/plain": [
       "<Figure size 432x288 with 1 Axes>"
      ]
     },
     "metadata": {
      "needs_background": "light"
     },
     "output_type": "display_data"
    }
   ],
   "source": [
    "# Groupby year\n",
    "dataset_gp_byyear = dataset.groupby(pd.TimeGrouper('A'))\n",
    "\n",
    "# Create a dataframe of groupby values\n",
    "year = pd.DataFrame()\n",
    "for date, monthly_values in dataset_gp_byyear:\n",
    "    year[date.year] = monthly_values.values\n",
    "    \n",
    "# Plot Boxplot\n",
    "year.boxplot()\n",
    "plt.show()"
   ]
  },
  {
   "cell_type": "markdown",
   "metadata": {},
   "source": [
    "### Analysis (Boxplot): \n",
    "#### Following observation can be made from above boxplot :\n",
    "1- The yearwise change in distribution shows that trend may not be linear. <br>"
   ]
  },
  {
   "cell_type": "markdown",
   "metadata": {},
   "source": [
    "# ARIMA MODEL"
   ]
  },
  {
   "cell_type": "markdown",
   "metadata": {},
   "source": [
    "## First lets do a statistical stationarity test (ADF test) on the dataset"
   ]
  },
  {
   "cell_type": "code",
   "execution_count": 10,
   "metadata": {},
   "outputs": [],
   "source": [
    "# ADF test\n"
   ]
  }
 ],
 "metadata": {
  "kernelspec": {
   "display_name": "kaggle",
   "language": "python",
   "name": "kaggle"
  },
  "language_info": {
   "codemirror_mode": {
    "name": "ipython",
    "version": 3
   },
   "file_extension": ".py",
   "mimetype": "text/x-python",
   "name": "python",
   "nbconvert_exporter": "python",
   "pygments_lexer": "ipython3",
   "version": "3.6.6"
  }
 },
 "nbformat": 4,
 "nbformat_minor": 2
}
