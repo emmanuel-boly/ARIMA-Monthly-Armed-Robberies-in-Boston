{
 "cells": [
  {
   "cell_type": "markdown",
   "metadata": {},
   "source": [
    "# Import Libraries"
   ]
  },
  {
   "cell_type": "code",
   "execution_count": 2,
   "metadata": {},
   "outputs": [],
   "source": [
    "# numpy\n",
    "import numpy as np\n",
    "\n",
    "# pandas\n",
    "import pandas as pd\n",
    "\n",
    "# matplotlib\n",
    "import matplotlib.pyplot as plt\n",
    "\n",
    "# Statsmodel\n",
    "from statsmodels.tsa.stattools import adfuller\n",
    "from statsmodels.tsa.arima_model import ARIMA\n",
    "from statsmodels.graphics.tsaplots import plot_acf, plot_pacf\n",
    "\n",
    "# sklearn \n",
    "from sklearn.metrics import mean_squared_error\n",
    "\n",
    "# Supress all warnings\n",
    "import warnings\n",
    "warnings.filterwarnings(\"ignore\")"
   ]
  },
  {
   "cell_type": "markdown",
   "metadata": {},
   "source": [
    "# Load Data"
   ]
  },
  {
   "cell_type": "code",
   "execution_count": 3,
   "metadata": {},
   "outputs": [],
   "source": [
    "# Load dataset \n",
    "# \n",
    "data = pd.Series.from_csv(path='Data/robberies.csv', header=0)\n",
    "\n",
    "# split dataset\n",
    "split_point = len(data) - 12\n",
    "\n",
    "# dataset (observation from year 1966 to 1974)\n",
    "# validation_data (observations of year 1975)\n",
    "dataset , validation_data = data[0:split_point], data[split_point:]"
   ]
  },
  {
   "cell_type": "markdown",
   "metadata": {},
   "source": [
    "### Data Preparation: We have monthly dataset for 9 years (1966-1975), we split the dataset into two parts \n",
    "1- dataset (observation from year 1966 to 1974), will further split this into train and test. <br> 2- validation_data (observations of year 1975), will take this as a development set."
   ]
  },
  {
   "cell_type": "markdown",
   "metadata": {},
   "source": [
    "# Persistance Model (For Baseline RMSE)"
   ]
  },
  {
   "cell_type": "code",
   "execution_count": 4,
   "metadata": {},
   "outputs": [],
   "source": [
    "# prepare data for persistence model\n",
    "\n",
    "split_point = int(len(dataset) * 0.5)\n",
    "train, test = dataset[0: split_point].values.astype('float32'), dataset[split_point:].values.astype('float32')"
   ]
  },
  {
   "cell_type": "code",
   "execution_count": 5,
   "metadata": {},
   "outputs": [],
   "source": [
    "# walk-forward validation model\n",
    "history = [i for i in train]"
   ]
  },
  {
   "cell_type": "code",
   "execution_count": 6,
   "metadata": {},
   "outputs": [
    {
     "name": "stdout",
     "output_type": "stream",
     "text": [
      "Predicted: 98.00, Expected: 125.000\n",
      "Predicted: 125.00, Expected: 155.000\n",
      "Predicted: 155.00, Expected: 190.000\n",
      "Predicted: 190.00, Expected: 236.000\n",
      "Predicted: 236.00, Expected: 189.000\n",
      "Predicted: 189.00, Expected: 174.000\n",
      "Predicted: 174.00, Expected: 178.000\n",
      "Predicted: 178.00, Expected: 136.000\n",
      "Predicted: 136.00, Expected: 161.000\n",
      "Predicted: 161.00, Expected: 171.000\n",
      "Predicted: 171.00, Expected: 149.000\n",
      "Predicted: 149.00, Expected: 184.000\n",
      "Predicted: 184.00, Expected: 155.000\n",
      "Predicted: 155.00, Expected: 276.000\n",
      "Predicted: 276.00, Expected: 224.000\n",
      "Predicted: 224.00, Expected: 213.000\n",
      "Predicted: 213.00, Expected: 279.000\n",
      "Predicted: 279.00, Expected: 268.000\n",
      "Predicted: 268.00, Expected: 287.000\n",
      "Predicted: 287.00, Expected: 238.000\n",
      "Predicted: 238.00, Expected: 213.000\n",
      "Predicted: 213.00, Expected: 257.000\n",
      "Predicted: 257.00, Expected: 293.000\n",
      "Predicted: 293.00, Expected: 212.000\n",
      "Predicted: 212.00, Expected: 246.000\n",
      "Predicted: 246.00, Expected: 353.000\n",
      "Predicted: 353.00, Expected: 339.000\n",
      "Predicted: 339.00, Expected: 308.000\n",
      "Predicted: 308.00, Expected: 247.000\n",
      "Predicted: 247.00, Expected: 257.000\n",
      "Predicted: 257.00, Expected: 322.000\n",
      "Predicted: 322.00, Expected: 298.000\n",
      "Predicted: 298.00, Expected: 273.000\n",
      "Predicted: 273.00, Expected: 312.000\n",
      "Predicted: 312.00, Expected: 249.000\n",
      "Predicted: 249.00, Expected: 286.000\n",
      "Predicted: 286.00, Expected: 279.000\n",
      "Predicted: 279.00, Expected: 309.000\n",
      "Predicted: 309.00, Expected: 401.000\n",
      "Predicted: 401.00, Expected: 309.000\n",
      "Predicted: 309.00, Expected: 328.000\n",
      "Predicted: 328.00, Expected: 353.000\n",
      "Predicted: 353.00, Expected: 354.000\n",
      "Predicted: 354.00, Expected: 327.000\n",
      "Predicted: 327.00, Expected: 324.000\n",
      "Predicted: 324.00, Expected: 285.000\n",
      "Predicted: 285.00, Expected: 243.000\n",
      "Predicted: 243.00, Expected: 241.000\n",
      "Predicted: 241.00, Expected: 287.000\n",
      "Predicted: 287.00, Expected: 355.000\n",
      "Predicted: 355.00, Expected: 460.000\n",
      "Predicted: 460.00, Expected: 364.000\n",
      "Predicted: 364.00, Expected: 487.000\n",
      "\n",
      "Baseline RMSE : 51.84\n"
     ]
    }
   ],
   "source": [
    "predictions = []\n",
    "for i in range(len(test)):\n",
    "    \n",
    "    # get prediction\n",
    "    y_pred = history[-1]\n",
    "    predictions.append(y_pred)\n",
    "    \n",
    "    # observed\n",
    "    y_true = test[i]\n",
    "    history.append(y_true)\n",
    "    print('Predicted: %.2f, Expected: %.3f' % (y_pred, y_true))\n",
    "    \n",
    "print('\\nBaseline RMSE : %.2f' % (np.sqrt(mean_squared_error(test, predictions))))"
   ]
  },
  {
   "cell_type": "markdown",
   "metadata": {},
   "source": [
    "### Analysis (Persistance Model): \n",
    "We got RMSE value of <b>52.12 </b> which will act as a baseline value for improvement of ARIMA model."
   ]
  },
  {
   "cell_type": "markdown",
   "metadata": {},
   "source": [
    "# Data Analysis"
   ]
  },
  {
   "cell_type": "markdown",
   "metadata": {},
   "source": [
    "## Summary Statistics"
   ]
  },
  {
   "cell_type": "code",
   "execution_count": 7,
   "metadata": {},
   "outputs": [
    {
     "data": {
      "text/plain": [
       "count    106.000000\n",
       "mean     173.103774\n",
       "std      112.231133\n",
       "min       29.000000\n",
       "25%       74.750000\n",
       "50%      144.500000\n",
       "75%      271.750000\n",
       "max      487.000000\n",
       "Name: Robberies, dtype: float64"
      ]
     },
     "execution_count": 7,
     "metadata": {},
     "output_type": "execute_result"
    }
   ],
   "source": [
    "dataset.describe()"
   ]
  },
  {
   "cell_type": "markdown",
   "metadata": {},
   "source": [
    "## Line Plot"
   ]
  },
  {
   "cell_type": "code",
   "execution_count": 8,
   "metadata": {},
   "outputs": [
    {
     "data": {
      "image/png": "[encoded data removed]",
      "text/plain": [
       "<Figure size 432x288 with 1 Axes>"
      ]
     },
     "metadata": {
      "needs_background": "light"
     },
     "output_type": "display_data"
    }
   ],
   "source": [
    "plt.plot(dataset)\n",
    "plt.xlabel('Year')\n",
    "plt.ylabel('Number Of Robberies')\n",
    "plt.show()"
   ]
  },
  {
   "cell_type": "markdown",
   "metadata": {},
   "source": [
    "### Analysis (Line Plot): Following observations can be made from above line plot\n",
    "1- An increasing trend in observed from year to year. We will detrend it .<br>\n",
    "2- Data is not stationary seems like it has varying mean and variance over time (years). We will remove seasonality .<br>\n",
    "3- Large fluctions are observed from year to year. <br>\n",
    "    * Earlier year posess less fluctuations .\n",
    "    * Later years posess more fluctuations."
   ]
  },
  {
   "cell_type": "markdown",
   "metadata": {},
   "source": [
    "## Density Plot"
   ]
  },
  {
   "cell_type": "code",
   "execution_count": 9,
   "metadata": {},
   "outputs": [
    {
     "data": {
      "image/png": "[encoded data removed]",
      "text/plain": [
       "<Figure size 432x288 with 2 Axes>"
      ]
     },
     "metadata": {
      "needs_background": "light"
     },
     "output_type": "display_data"
    }
   ],
   "source": [
    "plt.figure(1)\n",
    "plt.subplot(211)\n",
    "plt.hist(dataset)\n",
    "plt.subplot(212)\n",
    "dataset.plot(kind='kde')\n",
    "plt.show()"
   ]
  },
  {
   "cell_type": "markdown",
   "metadata": {},
   "source": [
    "### Analysis (Density Plot): Following observations can be made from above Density plots\n",
    "1- The histogram shows exponential distribution | long tailed towards right. This can be removed using log power transform. <br>\n",
    "2- The density plot shows a bimodal distribution. <br>"
   ]
  },
  {
   "cell_type": "markdown",
   "metadata": {},
   "source": [
    "## Box and Whisker Plot"
   ]
  },
  {
   "cell_type": "code",
   "execution_count": 10,
   "metadata": {},
   "outputs": [
    {
     "ename": "ValueError",
     "evalue": "Length of values does not match length of index",
     "output_type": "error",
     "traceback": [
      "\u001b[0;31m---------------------------------------------------------------------------\u001b[0m",
      "\u001b[0;31mValueError\u001b[0m                                Traceback (most recent call last)",
      "\u001b[0;32m<ipython-input-10-cee4a994bc6d>\u001b[0m in \u001b[0;36m<module>\u001b[0;34m()\u001b[0m\n\u001b[1;32m      5\u001b[0m \u001b[0myear\u001b[0m \u001b[0;34m=\u001b[0m \u001b[0mpd\u001b[0m\u001b[0;34m.\u001b[0m\u001b[0mDataFrame\u001b[0m\u001b[0;34m(\u001b[0m\u001b[0;34m)\u001b[0m\u001b[0;34m\u001b[0m\u001b[0m\n\u001b[1;32m      6\u001b[0m \u001b[0;32mfor\u001b[0m \u001b[0mdate\u001b[0m\u001b[0;34m,\u001b[0m \u001b[0mmonthly_values\u001b[0m \u001b[0;32min\u001b[0m \u001b[0mdataset_gp_byyear\u001b[0m\u001b[0;34m:\u001b[0m\u001b[0;34m\u001b[0m\u001b[0m\n\u001b[0;32m----> 7\u001b[0;31m     \u001b[0myear\u001b[0m\u001b[0;34m[\u001b[0m\u001b[0mdate\u001b[0m\u001b[0;34m.\u001b[0m\u001b[0myear\u001b[0m\u001b[0;34m]\u001b[0m \u001b[0;34m=\u001b[0m \u001b[0mmonthly_values\u001b[0m\u001b[0;34m.\u001b[0m\u001b[0mvalues\u001b[0m\u001b[0;34m\u001b[0m\u001b[0m\n\u001b[0m\u001b[1;32m      8\u001b[0m \u001b[0;34m\u001b[0m\u001b[0m\n\u001b[1;32m      9\u001b[0m \u001b[0;31m# Plot Boxplot\u001b[0m\u001b[0;34m\u001b[0m\u001b[0;34m\u001b[0m\u001b[0m\n",
      "\u001b[0;32m~/anaconda3/envs/kaggle/lib/python3.6/site-packages/pandas/core/frame.py\u001b[0m in \u001b[0;36m__setitem__\u001b[0;34m(self, key, value)\u001b[0m\n\u001b[1;32m   3117\u001b[0m         \u001b[0;32melse\u001b[0m\u001b[0;34m:\u001b[0m\u001b[0;34m\u001b[0m\u001b[0m\n\u001b[1;32m   3118\u001b[0m             \u001b[0;31m# set column\u001b[0m\u001b[0;34m\u001b[0m\u001b[0;34m\u001b[0m\u001b[0m\n\u001b[0;32m-> 3119\u001b[0;31m             \u001b[0mself\u001b[0m\u001b[0;34m.\u001b[0m\u001b[0m_set_item\u001b[0m\u001b[0;34m(\u001b[0m\u001b[0mkey\u001b[0m\u001b[0;34m,\u001b[0m \u001b[0mvalue\u001b[0m\u001b[0;34m)\u001b[0m\u001b[0;34m\u001b[0m\u001b[0m\n\u001b[0m\u001b[1;32m   3120\u001b[0m \u001b[0;34m\u001b[0m\u001b[0m\n\u001b[1;32m   3121\u001b[0m     \u001b[0;32mdef\u001b[0m \u001b[0m_setitem_slice\u001b[0m\u001b[0;34m(\u001b[0m\u001b[0mself\u001b[0m\u001b[0;34m,\u001b[0m \u001b[0mkey\u001b[0m\u001b[0;34m,\u001b[0m \u001b[0mvalue\u001b[0m\u001b[0;34m)\u001b[0m\u001b[0;34m:\u001b[0m\u001b[0;34m\u001b[0m\u001b[0m\n",
      "\u001b[0;32m~/anaconda3/envs/kaggle/lib/python3.6/site-packages/pandas/core/frame.py\u001b[0m in \u001b[0;36m_set_item\u001b[0;34m(self, key, value)\u001b[0m\n\u001b[1;32m   3192\u001b[0m \u001b[0;34m\u001b[0m\u001b[0m\n\u001b[1;32m   3193\u001b[0m         \u001b[0mself\u001b[0m\u001b[0;34m.\u001b[0m\u001b[0m_ensure_valid_index\u001b[0m\u001b[0;34m(\u001b[0m\u001b[0mvalue\u001b[0m\u001b[0;34m)\u001b[0m\u001b[0;34m\u001b[0m\u001b[0m\n\u001b[0;32m-> 3194\u001b[0;31m         \u001b[0mvalue\u001b[0m \u001b[0;34m=\u001b[0m \u001b[0mself\u001b[0m\u001b[0;34m.\u001b[0m\u001b[0m_sanitize_column\u001b[0m\u001b[0;34m(\u001b[0m\u001b[0mkey\u001b[0m\u001b[0;34m,\u001b[0m \u001b[0mvalue\u001b[0m\u001b[0;34m)\u001b[0m\u001b[0;34m\u001b[0m\u001b[0m\n\u001b[0m\u001b[1;32m   3195\u001b[0m         \u001b[0mNDFrame\u001b[0m\u001b[0;34m.\u001b[0m\u001b[0m_set_item\u001b[0m\u001b[0;34m(\u001b[0m\u001b[0mself\u001b[0m\u001b[0;34m,\u001b[0m \u001b[0mkey\u001b[0m\u001b[0;34m,\u001b[0m \u001b[0mvalue\u001b[0m\u001b[0;34m)\u001b[0m\u001b[0;34m\u001b[0m\u001b[0m\n\u001b[1;32m   3196\u001b[0m \u001b[0;34m\u001b[0m\u001b[0m\n",
      "\u001b[0;32m~/anaconda3/envs/kaggle/lib/python3.6/site-packages/pandas/core/frame.py\u001b[0m in \u001b[0;36m_sanitize_column\u001b[0;34m(self, key, value, broadcast)\u001b[0m\n\u001b[1;32m   3389\u001b[0m \u001b[0;34m\u001b[0m\u001b[0m\n\u001b[1;32m   3390\u001b[0m             \u001b[0;31m# turn me into an ndarray\u001b[0m\u001b[0;34m\u001b[0m\u001b[0;34m\u001b[0m\u001b[0m\n\u001b[0;32m-> 3391\u001b[0;31m             \u001b[0mvalue\u001b[0m \u001b[0;34m=\u001b[0m \u001b[0m_sanitize_index\u001b[0m\u001b[0;34m(\u001b[0m\u001b[0mvalue\u001b[0m\u001b[0;34m,\u001b[0m \u001b[0mself\u001b[0m\u001b[0;34m.\u001b[0m\u001b[0mindex\u001b[0m\u001b[0;34m,\u001b[0m \u001b[0mcopy\u001b[0m\u001b[0;34m=\u001b[0m\u001b[0;32mFalse\u001b[0m\u001b[0;34m)\u001b[0m\u001b[0;34m\u001b[0m\u001b[0m\n\u001b[0m\u001b[1;32m   3392\u001b[0m             \u001b[0;32mif\u001b[0m \u001b[0;32mnot\u001b[0m \u001b[0misinstance\u001b[0m\u001b[0;34m(\u001b[0m\u001b[0mvalue\u001b[0m\u001b[0;34m,\u001b[0m \u001b[0;34m(\u001b[0m\u001b[0mnp\u001b[0m\u001b[0;34m.\u001b[0m\u001b[0mndarray\u001b[0m\u001b[0;34m,\u001b[0m \u001b[0mIndex\u001b[0m\u001b[0;34m)\u001b[0m\u001b[0;34m)\u001b[0m\u001b[0;34m:\u001b[0m\u001b[0;34m\u001b[0m\u001b[0m\n\u001b[1;32m   3393\u001b[0m                 \u001b[0;32mif\u001b[0m \u001b[0misinstance\u001b[0m\u001b[0;34m(\u001b[0m\u001b[0mvalue\u001b[0m\u001b[0;34m,\u001b[0m \u001b[0mlist\u001b[0m\u001b[0;34m)\u001b[0m \u001b[0;32mand\u001b[0m \u001b[0mlen\u001b[0m\u001b[0;34m(\u001b[0m\u001b[0mvalue\u001b[0m\u001b[0;34m)\u001b[0m \u001b[0;34m>\u001b[0m \u001b[0;36m0\u001b[0m\u001b[0;34m:\u001b[0m\u001b[0;34m\u001b[0m\u001b[0m\n",
      "\u001b[0;32m~/anaconda3/envs/kaggle/lib/python3.6/site-packages/pandas/core/series.py\u001b[0m in \u001b[0;36m_sanitize_index\u001b[0;34m(data, index, copy)\u001b[0m\n\u001b[1;32m   3999\u001b[0m \u001b[0;34m\u001b[0m\u001b[0m\n\u001b[1;32m   4000\u001b[0m     \u001b[0;32mif\u001b[0m \u001b[0mlen\u001b[0m\u001b[0;34m(\u001b[0m\u001b[0mdata\u001b[0m\u001b[0;34m)\u001b[0m \u001b[0;34m!=\u001b[0m \u001b[0mlen\u001b[0m\u001b[0;34m(\u001b[0m\u001b[0mindex\u001b[0m\u001b[0;34m)\u001b[0m\u001b[0;34m:\u001b[0m\u001b[0;34m\u001b[0m\u001b[0m\n\u001b[0;32m-> 4001\u001b[0;31m         \u001b[0;32mraise\u001b[0m \u001b[0mValueError\u001b[0m\u001b[0;34m(\u001b[0m\u001b[0;34m'Length of values does not match length of '\u001b[0m \u001b[0;34m'index'\u001b[0m\u001b[0;34m)\u001b[0m\u001b[0;34m\u001b[0m\u001b[0m\n\u001b[0m\u001b[1;32m   4002\u001b[0m \u001b[0;34m\u001b[0m\u001b[0m\n\u001b[1;32m   4003\u001b[0m     \u001b[0;32mif\u001b[0m \u001b[0misinstance\u001b[0m\u001b[0;34m(\u001b[0m\u001b[0mdata\u001b[0m\u001b[0;34m,\u001b[0m \u001b[0mABCIndexClass\u001b[0m\u001b[0;34m)\u001b[0m \u001b[0;32mand\u001b[0m \u001b[0;32mnot\u001b[0m \u001b[0mcopy\u001b[0m\u001b[0;34m:\u001b[0m\u001b[0;34m\u001b[0m\u001b[0m\n",
      "\u001b[0;31mValueError\u001b[0m: Length of values does not match length of index"
     ]
    }
   ],
   "source": [
    "# Groupby year\n",
    "dataset_gp_byyear = dataset.groupby(pd.TimeGrouper('A'))\n",
    "\n",
    "# Create a dataframe of groupby values\n",
    "year = pd.DataFrame()\n",
    "for date, monthly_values in dataset_gp_byyear:\n",
    "    year[date.year] = monthly_values.values\n",
    "    \n",
    "# Plot Boxplot\n",
    "year.boxplot()\n",
    "plt.show()"
   ]
  },
  {
   "cell_type": "markdown",
   "metadata": {},
   "source": [
    "### Analysis (Boxplot): \n",
    "#### Following observation can be made from above boxplot :\n",
    "1- The yearwise change in distribution shows that trend may not be linear. <br>"
   ]
  },
  {
   "cell_type": "markdown",
   "metadata": {},
   "source": [
    "# ARIMA MODEL"
   ]
  },
  {
   "cell_type": "markdown",
   "metadata": {},
   "source": [
    "## First lets do a statistical stationarity test (ADF test) on the dataset"
   ]
  },
  {
   "cell_type": "code",
   "execution_count": null,
   "metadata": {},
   "outputs": [],
   "source": [
    "# ADF test\n",
    "result = adfuller(dataset)\n",
    "print('p-value %.2f' % (result[1]))"
   ]
  },
  {
   "cell_type": "markdown",
   "metadata": {},
   "source": [
    "### Analysis (ADF test): \n",
    "#### Following observation can be made from above p-value :\n",
    "1- Given p-value of 0.99 seems like null hypothesis is accepted meaning that the data is not stationary and ARIMA model assumes data to be stationary lets first make it stationary <br>"
   ]
  },
  {
   "cell_type": "code",
   "execution_count": null,
   "metadata": {},
   "outputs": [],
   "source": [
    "# Make dataset stationary by differencing\n",
    "dataset_no_trend = pd.Series([ dataset[i]-dataset[i-1] for i in range(1, len(dataset))], index=dataset.index[1:])"
   ]
  },
  {
   "cell_type": "code",
   "execution_count": null,
   "metadata": {},
   "outputs": [],
   "source": [
    "print('p-value after detrending : %f' % (adfuller(dataset_no_trend)[1]))"
   ]
  },
  {
   "cell_type": "markdown",
   "metadata": {},
   "source": [
    "### Analysis (Post differencing): \n",
    "#### Following observation can be made from above p-value :\n",
    "1- Given p-value of 0.000417 seems like null hypothesis is rejected meaning that the data is stationary and we can model ARIMA on it, suggesting 1-level differencing is required.<br>"
   ]
  },
  {
   "cell_type": "markdown",
   "metadata": {},
   "source": [
    "## Find AR-MA parameters of ARIMA model using ACF and PACF plot"
   ]
  },
  {
   "cell_type": "code",
   "execution_count": null,
   "metadata": {},
   "outputs": [],
   "source": [
    "plot_acf(dataset,lags=30)\n",
    "plt.show()\n",
    "plot_pacf(dataset, lags=30)\n",
    "plt.show()"
   ]
  },
  {
   "cell_type": "markdown",
   "metadata": {},
   "source": [
    "### Analysis (ACF And PACF): \n",
    "#### Following observation can be made from above plots :\n",
    "1- From ACF plot it can be observed that lag uptill 10 shows great correlation so will consider value of p=10 hence its an AR(10) process. <br>\n",
    "2- From PACF plot it can be observed that lag values uptill 2 so will consider value of q=2 hence its an MA(2) process. <br>\n",
    "3- Since, we from the previous differencing part we found that d=1 makes the time series stationary, hence will take value of d=1. <br>"
   ]
  },
  {
   "cell_type": "markdown",
   "metadata": {},
   "source": [
    "### ARIMA MODEL (Manually configured) - Walk Forward Style Validation"
   ]
  },
  {
   "cell_type": "code",
   "execution_count": null,
   "metadata": {},
   "outputs": [],
   "source": [
    "def ARIMA_mannaul(order):\n",
    "    \n",
    "    history = [i for i in train]\n",
    "    predictions = []\n",
    "    \n",
    "    for i in range(len(test)):\n",
    "        \n",
    "        # Fit model and predict\n",
    "        model = ARIMA(history, order=order)\n",
    "        \n",
    "        try : \n",
    "            y_pred = model.fit(disp=0).forecast()[0]\n",
    "            \n",
    "        except: \n",
    "            pass\n",
    "    \n",
    "        predictions.append(y_pred)\n",
    "        \n",
    "        # y_true\n",
    "        y_true = test[i]\n",
    "        history.append(y_true)\n",
    "#         print('Predicted : %.2f , Observed : %.2f' % (y_pred, y_true))\n",
    "        \n",
    "    # Model performance\n",
    "    rmse = np.sqrt(mean_squared_error(test, predictions))\n",
    "    print('Result RMSE: %.2f when p:%s, d:%s and q:%s' % (rmse, order[0], order[1], order[2]))\n",
    "    \n",
    "    return rmse"
   ]
  },
  {
   "cell_type": "code",
   "execution_count": null,
   "metadata": {},
   "outputs": [],
   "source": [
    "# ARIMA mannual configuration(1) p=10, d=1 and q=2\n",
    "rmse_cfg_1 =ARIMA_mannaul(order=(10,1,2))"
   ]
  },
  {
   "cell_type": "markdown",
   "metadata": {},
   "source": [
    "### Analysis (ARIMA Mannually Configuration-(1)): \n",
    "#### From the following predicted results using configuration(1) it can be observed that:\n",
    "With some more validation using different values of (p,d,q) the model is not able to converge with non-zero values of AR and MA at the same time and results in error by the underlying library. <br>\n",
    "So, will test out different confgurations of the model while one of the values of p or q is 0."
   ]
  },
  {
   "cell_type": "code",
   "execution_count": null,
   "metadata": {},
   "outputs": [],
   "source": [
    "# ARIMA mannual configuration(2) p=0, d=1 and q=2\n",
    "rmse_cfg_2 = ARIMA_mannaul(order=(0,1,2))"
   ]
  },
  {
   "cell_type": "code",
   "execution_count": null,
   "metadata": {},
   "outputs": [],
   "source": [
    "# ARIMA mannual configuration(3) p=10, d=1 and q=0\n",
    "rmse_cfg_3 = ARIMA_mannaul(order=(10,1,0))"
   ]
  },
  {
   "cell_type": "markdown",
   "metadata": {},
   "source": [
    "### Analysis (ARIMA Mannually Configuration-(2) and (3)): \n",
    "#### From the following predicted results using configuration(2) and configuration(3) it can be observed that\n",
    "Testing out different confguration-(2) and (3) of the model while one of the values of p or q is 0, shows improvement on RMSE over base persistence model."
   ]
  },
  {
   "cell_type": "markdown",
   "metadata": {},
   "source": [
    "### GRID search ARIMA Model\n",
    "Will search parameters of ARIMA model using different values of p-(0 to 12), d-(0 to 3), q-(0 to 12)"
   ]
  },
  {
   "cell_type": "code",
   "execution_count": null,
   "metadata": {},
   "outputs": [],
   "source": [
    "def evaluate_arima_model(train, test, order):\n",
    "    \n",
    "    eval_history = [i for i in train]\n",
    "    \n",
    "    eval_predictions = []\n",
    "    \n",
    "    for i in range(len(test)):\n",
    "        \n",
    "        # Fit model and predict\n",
    "        model = ARIMA(history, order=order)\n",
    "        \n",
    "        try:\n",
    "            y_pred = model.fit(disp=0).forecast()[0]\n",
    "        except:\n",
    "            pass\n",
    "        \n",
    "        eval_predictions.append(y_pred)\n",
    "        \n",
    "        # Get y_true\n",
    "        y_true = test[i]\n",
    "        history.append(y_true)\n",
    "        \n",
    "    # Model performance\n",
    "    rmse = np.sqrt(mean_squared_error(test, predictions))\n",
    "    print('Result RMSE: %.2f when p:%s, d:%s and q:%s' % (rmse, order[0], order[1], order[2]))  "
   ]
  },
  {
   "cell_type": "code",
   "execution_count": null,
   "metadata": {},
   "outputs": [],
   "source": [
    "# Function for grid search\n",
    "def grid_ARIMA(p_values, d_values, q_values):\n",
    "    \n",
    "    best_rmse, best_cfg = float('inf'), None\n",
    "    \n",
    "    for i in p_values:\n",
    "        for j in d_values:\n",
    "            for k in q_values:                    \n",
    "                \n",
    "                grid_rmse = evaluate_arima_model(train, test, (i,j,k))\n",
    "                \n",
    "                if grid_rmse < best_rmse:\n",
    "                    best_score, best_cfg = grid_rmse, (i,j,k)\n",
    "                print('Got RMSE: %.2f ARIMA CFG : p:%s, d:%s and q:%s' % (grid_rmse, i,j,k))\n",
    "                \n",
    "    print('Best RMSE: %.2f ARIMA CFG : p:%s, d:%s and q:%s' % (best_score, best_cfg[0], best_cfg[1], best_cfg[2]))\n",
    "                "
   ]
  },
  {
   "cell_type": "code",
   "execution_count": null,
   "metadata": {},
   "outputs": [],
   "source": [
    "# Define parameters p, d and q\n",
    "p = np.arange(0, 13)\n",
    "d = np.arange(0, 4)\n",
    "q = np.arange(0, 13)"
   ]
  },
  {
   "cell_type": "code",
   "execution_count": null,
   "metadata": {},
   "outputs": [],
   "source": [
    "# Apply grid search on ARIMA\n",
    "grid_ARIMA(p,d,q)"
   ]
  },
  {
   "cell_type": "code",
   "execution_count": null,
   "metadata": {},
   "outputs": [],
   "source": []
  }
 ],
 "metadata": {
  "kernelspec": {
   "display_name": "kaggle",
   "language": "python",
   "name": "kaggle"
  },
  "language_info": {
   "codemirror_mode": {
    "name": "ipython",
    "version": 3
   },
   "file_extension": ".py",
   "mimetype": "text/x-python",
   "name": "python",
   "nbconvert_exporter": "python",
   "pygments_lexer": "ipython3",
   "version": "3.6.6"
  }
 },
 "nbformat": 4,
 "nbformat_minor": 2
}
